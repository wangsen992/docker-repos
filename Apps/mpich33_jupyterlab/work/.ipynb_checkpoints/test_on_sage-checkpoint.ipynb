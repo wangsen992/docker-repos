{
 "cells": [
  {
   "cell_type": "code",
   "execution_count": 2,
   "id": "c988c7bc-c03e-4642-af2f-78afcb46eed4",
   "metadata": {
    "tags": []
   },
   "outputs": [
    {
     "name": "stdout",
     "output_type": "stream",
     "text": [
      "Collecting sage-data-client\n",
      "  Downloading sage_data_client-0.6.0-py3-none-any.whl (6.0 kB)\n",
      "Requirement already satisfied: pandas>=1.0.0 in /app/miniconda3/lib/python3.10/site-packages (from sage-data-client) (1.5.3)\n",
      "Requirement already satisfied: python-dateutil>=2.8.1 in /app/miniconda3/lib/python3.10/site-packages (from pandas>=1.0.0->sage-data-client) (2.8.2)\n",
      "Requirement already satisfied: pytz>=2020.1 in /app/miniconda3/lib/python3.10/site-packages (from pandas>=1.0.0->sage-data-client) (2023.3)\n",
      "Requirement already satisfied: numpy>=1.21.0 in /app/miniconda3/lib/python3.10/site-packages (from pandas>=1.0.0->sage-data-client) (1.25.0)\n",
      "Requirement already satisfied: six>=1.5 in /app/miniconda3/lib/python3.10/site-packages (from python-dateutil>=2.8.1->pandas>=1.0.0->sage-data-client) (1.16.0)\n",
      "Installing collected packages: sage-data-client\n",
      "Successfully installed sage-data-client-0.6.0\n"
     ]
    }
   ],
   "source": [
    "!pip install sage-data-client"
   ]
  },
  {
   "cell_type": "code",
   "execution_count": 4,
   "id": "c3ad29fc-0ac1-4925-b834-a55b7d8b88aa",
   "metadata": {
    "tags": []
   },
   "outputs": [],
   "source": [
    "import sage_data_client\n",
    "import pandas as pd"
   ]
  },
  {
   "cell_type": "code",
   "execution_count": 6,
   "id": "623b1ac8-38c3-4edd-903a-bc884cc807ff",
   "metadata": {
    "tags": []
   },
   "outputs": [],
   "source": [
    "start = \"-3h\"\n",
    "wxt_df1 = sage_data_client.query(\n",
    "    start=start,\n",
    "    filter={\n",
    "        \"sensor\": \"vaisala-wxt536\",\n",
    "        \"name\": \"wxt.wind.*\"\n",
    "    }\n",
    ")"
   ]
  },
  {
   "cell_type": "code",
   "execution_count": 8,
   "id": "3af77f01-662d-4c5e-972c-5dfd6dce635f",
   "metadata": {
    "tags": []
   },
   "outputs": [
    {
     "data": {
      "text/html": [
       "<div>\n",
       "<style scoped>\n",
       "    .dataframe tbody tr th:only-of-type {\n",
       "        vertical-align: middle;\n",
       "    }\n",
       "\n",
       "    .dataframe tbody tr th {\n",
       "        vertical-align: top;\n",
       "    }\n",
       "\n",
       "    .dataframe thead th {\n",
       "        text-align: right;\n",
       "    }\n",
       "</style>\n",
       "<table border=\"1\" class=\"dataframe\">\n",
       "  <thead>\n",
       "    <tr style=\"text-align: right;\">\n",
       "      <th></th>\n",
       "      <th>timestamp</th>\n",
       "      <th>name</th>\n",
       "      <th>value</th>\n",
       "      <th>meta.host</th>\n",
       "      <th>meta.missing</th>\n",
       "      <th>meta.node</th>\n",
       "      <th>meta.plugin</th>\n",
       "      <th>meta.sensor</th>\n",
       "      <th>meta.task</th>\n",
       "      <th>meta.units</th>\n",
       "      <th>meta.vsn</th>\n",
       "      <th>meta.zone</th>\n",
       "    </tr>\n",
       "  </thead>\n",
       "  <tbody>\n",
       "    <tr>\n",
       "      <th>0</th>\n",
       "      <td>2023-07-25 17:30:07.524413220+00:00</td>\n",
       "      <td>wxt.wind.direction</td>\n",
       "      <td>145.0</td>\n",
       "      <td>000048b02d3ae277.ws-nxcore</td>\n",
       "      <td>-9999.9</td>\n",
       "      <td>000048b02d3ae277</td>\n",
       "      <td>registry.sagecontinuum.org/jrobrien/waggle-wxt...</td>\n",
       "      <td>vaisala-wxt536</td>\n",
       "      <td>waggle-wxt536</td>\n",
       "      <td>degrees</td>\n",
       "      <td>W08D</td>\n",
       "      <td>core</td>\n",
       "    </tr>\n",
       "    <tr>\n",
       "      <th>1</th>\n",
       "      <td>2023-07-25 17:30:07.613069254+00:00</td>\n",
       "      <td>wxt.wind.direction</td>\n",
       "      <td>145.0</td>\n",
       "      <td>000048b02d3ae277.ws-nxcore</td>\n",
       "      <td>-9999.9</td>\n",
       "      <td>000048b02d3ae277</td>\n",
       "      <td>registry.sagecontinuum.org/jrobrien/waggle-wxt...</td>\n",
       "      <td>vaisala-wxt536</td>\n",
       "      <td>waggle-wxt536</td>\n",
       "      <td>degrees</td>\n",
       "      <td>W08D</td>\n",
       "      <td>core</td>\n",
       "    </tr>\n",
       "    <tr>\n",
       "      <th>2</th>\n",
       "      <td>2023-07-25 17:30:07.692242619+00:00</td>\n",
       "      <td>wxt.wind.direction</td>\n",
       "      <td>145.0</td>\n",
       "      <td>000048b02d3ae277.ws-nxcore</td>\n",
       "      <td>-9999.9</td>\n",
       "      <td>000048b02d3ae277</td>\n",
       "      <td>registry.sagecontinuum.org/jrobrien/waggle-wxt...</td>\n",
       "      <td>vaisala-wxt536</td>\n",
       "      <td>waggle-wxt536</td>\n",
       "      <td>degrees</td>\n",
       "      <td>W08D</td>\n",
       "      <td>core</td>\n",
       "    </tr>\n",
       "    <tr>\n",
       "      <th>3</th>\n",
       "      <td>2023-07-25 17:30:07.770580478+00:00</td>\n",
       "      <td>wxt.wind.direction</td>\n",
       "      <td>145.0</td>\n",
       "      <td>000048b02d3ae277.ws-nxcore</td>\n",
       "      <td>-9999.9</td>\n",
       "      <td>000048b02d3ae277</td>\n",
       "      <td>registry.sagecontinuum.org/jrobrien/waggle-wxt...</td>\n",
       "      <td>vaisala-wxt536</td>\n",
       "      <td>waggle-wxt536</td>\n",
       "      <td>degrees</td>\n",
       "      <td>W08D</td>\n",
       "      <td>core</td>\n",
       "    </tr>\n",
       "    <tr>\n",
       "      <th>4</th>\n",
       "      <td>2023-07-25 17:30:07.848899200+00:00</td>\n",
       "      <td>wxt.wind.direction</td>\n",
       "      <td>145.0</td>\n",
       "      <td>000048b02d3ae277.ws-nxcore</td>\n",
       "      <td>-9999.9</td>\n",
       "      <td>000048b02d3ae277</td>\n",
       "      <td>registry.sagecontinuum.org/jrobrien/waggle-wxt...</td>\n",
       "      <td>vaisala-wxt536</td>\n",
       "      <td>waggle-wxt536</td>\n",
       "      <td>degrees</td>\n",
       "      <td>W08D</td>\n",
       "      <td>core</td>\n",
       "    </tr>\n",
       "  </tbody>\n",
       "</table>\n",
       "</div>"
      ],
      "text/plain": [
       "                            timestamp                name  value  \\\n",
       "0 2023-07-25 17:30:07.524413220+00:00  wxt.wind.direction  145.0   \n",
       "1 2023-07-25 17:30:07.613069254+00:00  wxt.wind.direction  145.0   \n",
       "2 2023-07-25 17:30:07.692242619+00:00  wxt.wind.direction  145.0   \n",
       "3 2023-07-25 17:30:07.770580478+00:00  wxt.wind.direction  145.0   \n",
       "4 2023-07-25 17:30:07.848899200+00:00  wxt.wind.direction  145.0   \n",
       "\n",
       "                    meta.host meta.missing         meta.node  \\\n",
       "0  000048b02d3ae277.ws-nxcore      -9999.9  000048b02d3ae277   \n",
       "1  000048b02d3ae277.ws-nxcore      -9999.9  000048b02d3ae277   \n",
       "2  000048b02d3ae277.ws-nxcore      -9999.9  000048b02d3ae277   \n",
       "3  000048b02d3ae277.ws-nxcore      -9999.9  000048b02d3ae277   \n",
       "4  000048b02d3ae277.ws-nxcore      -9999.9  000048b02d3ae277   \n",
       "\n",
       "                                         meta.plugin     meta.sensor  \\\n",
       "0  registry.sagecontinuum.org/jrobrien/waggle-wxt...  vaisala-wxt536   \n",
       "1  registry.sagecontinuum.org/jrobrien/waggle-wxt...  vaisala-wxt536   \n",
       "2  registry.sagecontinuum.org/jrobrien/waggle-wxt...  vaisala-wxt536   \n",
       "3  registry.sagecontinuum.org/jrobrien/waggle-wxt...  vaisala-wxt536   \n",
       "4  registry.sagecontinuum.org/jrobrien/waggle-wxt...  vaisala-wxt536   \n",
       "\n",
       "       meta.task meta.units meta.vsn meta.zone  \n",
       "0  waggle-wxt536    degrees     W08D      core  \n",
       "1  waggle-wxt536    degrees     W08D      core  \n",
       "2  waggle-wxt536    degrees     W08D      core  \n",
       "3  waggle-wxt536    degrees     W08D      core  \n",
       "4  waggle-wxt536    degrees     W08D      core  "
      ]
     },
     "execution_count": 8,
     "metadata": {},
     "output_type": "execute_result"
    }
   ],
   "source": [
    "wxt_df1.head()"
   ]
  },
  {
   "cell_type": "code",
   "execution_count": null,
   "id": "fcb226eb-a162-43b1-90f5-586f227edd6e",
   "metadata": {},
   "outputs": [],
   "source": [
    "start = \"-3h\"\n",
    "wxt_df1 = sage_data_client.query(\n",
    "    start=start,\n",
    "    filter={\n",
    "        \"meta.host\": \"000048b02d3ae277.ws-nxcore\",\n",
    "    }\n",
    ")"
   ]
  }
 ],
 "metadata": {
  "kernelspec": {
   "display_name": "Python 3 (ipykernel)",
   "language": "python",
   "name": "python3"
  },
  "language_info": {
   "codemirror_mode": {
    "name": "ipython",
    "version": 3
   },
   "file_extension": ".py",
   "mimetype": "text/x-python",
   "name": "python",
   "nbconvert_exporter": "python",
   "pygments_lexer": "ipython3",
   "version": "3.10.10"
  }
 },
 "nbformat": 4,
 "nbformat_minor": 5
}
