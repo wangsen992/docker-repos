{
 "cells": [
  {
   "cell_type": "code",
   "execution_count": 2,
   "id": "c988c7bc-c03e-4642-af2f-78afcb46eed4",
   "metadata": {
    "tags": []
   },
   "outputs": [
    {
     "name": "stdout",
     "output_type": "stream",
     "text": [
      "Collecting sage-data-client\n",
      "  Downloading sage_data_client-0.6.0-py3-none-any.whl (6.0 kB)\n",
      "Requirement already satisfied: pandas>=1.0.0 in /app/miniconda3/lib/python3.10/site-packages (from sage-data-client) (1.5.3)\n",
      "Requirement already satisfied: python-dateutil>=2.8.1 in /app/miniconda3/lib/python3.10/site-packages (from pandas>=1.0.0->sage-data-client) (2.8.2)\n",
      "Requirement already satisfied: pytz>=2020.1 in /app/miniconda3/lib/python3.10/site-packages (from pandas>=1.0.0->sage-data-client) (2023.3)\n",
      "Requirement already satisfied: numpy>=1.21.0 in /app/miniconda3/lib/python3.10/site-packages (from pandas>=1.0.0->sage-data-client) (1.25.0)\n",
      "Requirement already satisfied: six>=1.5 in /app/miniconda3/lib/python3.10/site-packages (from python-dateutil>=2.8.1->pandas>=1.0.0->sage-data-client) (1.16.0)\n",
      "Installing collected packages: sage-data-client\n",
      "Successfully installed sage-data-client-0.6.0\n"
     ]
    }
   ],
   "source": [
    "!pip install sage-data-client"
   ]
  },
  {
   "cell_type": "code",
   "execution_count": 4,
   "id": "c3ad29fc-0ac1-4925-b834-a55b7d8b88aa",
   "metadata": {
    "tags": []
   },
   "outputs": [],
   "source": [
    "import sage_data_client\n",
    "import pandas as pd"
   ]
  },
  {
   "cell_type": "code",
   "execution_count": 6,
   "id": "623b1ac8-38c3-4edd-903a-bc884cc807ff",
   "metadata": {
    "tags": []
   },
   "outputs": [],
   "source": [
    "start = \"-3h\"\n",
    "wxt_df1 = sage_data_client.query(\n",
    "    start=start,\n",
    "    filter={\n",
    "        \"sensor\": \"vaisala-wxt536\",\n",
    "        \"name\": \"wxt.wind.*\"\n",
    "    }\n",
    ")"
   ]
  },
  {
   "cell_type": "code",
   "execution_count": 8,
   "id": "3af77f01-662d-4c5e-972c-5dfd6dce635f",
   "metadata": {
    "tags": []
   },
   "outputs": [
    {
     "data": {
      "text/html": [
       "<div>\n",
       "<style scoped>\n",
       "    .dataframe tbody tr th:only-of-type {\n",
       "        vertical-align: middle;\n",
       "    }\n",
       "\n",
       "    .dataframe tbody tr th {\n",
       "        vertical-align: top;\n",
       "    }\n",
       "\n",
       "    .dataframe thead th {\n",
       "        text-align: right;\n",
       "    }\n",
       "</style>\n",
       "<table border=\"1\" class=\"dataframe\">\n",
       "  <thead>\n",
       "    <tr style=\"text-align: right;\">\n",
       "      <th></th>\n",
       "      <th>timestamp</th>\n",
       "      <th>name</th>\n",
       "      <th>value</th>\n",
       "      <th>meta.host</th>\n",
       "      <th>meta.missing</th>\n",
       "      <th>meta.node</th>\n",
       "      <th>meta.plugin</th>\n",
       "      <th>meta.sensor</th>\n",
       "      <th>meta.task</th>\n",
       "      <th>meta.units</th>\n",
       "      <th>meta.vsn</th>\n",
       "      <th>meta.zone</th>\n",
       "    </tr>\n",
       "  </thead>\n",
       "  <tbody>\n",
       "    <tr>\n",
       "      <th>0</th>\n",
       "      <td>2023-07-25 17:30:07.524413220+00:00</td>\n",
       "      <td>wxt.wind.direction</td>\n",
       "      <td>145.0</td>\n",
       "      <td>000048b02d3ae277.ws-nxcore</td>\n",
       "      <td>-9999.9</td>\n",
       "      <td>000048b02d3ae277</td>\n",
       "      <td>registry.sagecontinuum.org/jrobrien/waggle-wxt...</td>\n",
       "      <td>vaisala-wxt536</td>\n",
       "      <td>waggle-wxt536</td>\n",
       "      <td>degrees</td>\n",
       "      <td>W08D</td>\n",
       "      <td>core</td>\n",
       "    </tr>\n",
       "    <tr>\n",
       "      <th>1</th>\n",
       "      <td>2023-07-25 17:30:07.613069254+00:00</td>\n",
       "      <td>wxt.wind.direction</td>\n",
       "      <td>145.0</td>\n",
       "      <td>000048b02d3ae277.ws-nxcore</td>\n",
       "      <td>-9999.9</td>\n",
       "      <td>000048b02d3ae277</td>\n",
       "      <td>registry.sagecontinuum.org/jrobrien/waggle-wxt...</td>\n",
       "      <td>vaisala-wxt536</td>\n",
       "      <td>waggle-wxt536</td>\n",
       "      <td>degrees</td>\n",
       "      <td>W08D</td>\n",
       "      <td>core</td>\n",
       "    </tr>\n",
       "    <tr>\n",
       "      <th>2</th>\n",
       "      <td>2023-07-25 17:30:07.692242619+00:00</td>\n",
       "      <td>wxt.wind.direction</td>\n",
       "      <td>145.0</td>\n",
       "      <td>000048b02d3ae277.ws-nxcore</td>\n",
       "      <td>-9999.9</td>\n",
       "      <td>000048b02d3ae277</td>\n",
       "      <td>registry.sagecontinuum.org/jrobrien/waggle-wxt...</td>\n",
       "      <td>vaisala-wxt536</td>\n",
       "      <td>waggle-wxt536</td>\n",
       "      <td>degrees</td>\n",
       "      <td>W08D</td>\n",
       "      <td>core</td>\n",
       "    </tr>\n",
       "    <tr>\n",
       "      <th>3</th>\n",
       "      <td>2023-07-25 17:30:07.770580478+00:00</td>\n",
       "      <td>wxt.wind.direction</td>\n",
       "      <td>145.0</td>\n",
       "      <td>000048b02d3ae277.ws-nxcore</td>\n",
       "      <td>-9999.9</td>\n",
       "      <td>000048b02d3ae277</td>\n",
       "      <td>registry.sagecontinuum.org/jrobrien/waggle-wxt...</td>\n",
       "      <td>vaisala-wxt536</td>\n",
       "      <td>waggle-wxt536</td>\n",
       "      <td>degrees</td>\n",
       "      <td>W08D</td>\n",
       "      <td>core</td>\n",
       "    </tr>\n",
       "    <tr>\n",
       "      <th>4</th>\n",
       "      <td>2023-07-25 17:30:07.848899200+00:00</td>\n",
       "      <td>wxt.wind.direction</td>\n",
       "      <td>145.0</td>\n",
       "      <td>000048b02d3ae277.ws-nxcore</td>\n",
       "      <td>-9999.9</td>\n",
       "      <td>000048b02d3ae277</td>\n",
       "      <td>registry.sagecontinuum.org/jrobrien/waggle-wxt...</td>\n",
       "      <td>vaisala-wxt536</td>\n",
       "      <td>waggle-wxt536</td>\n",
       "      <td>degrees</td>\n",
       "      <td>W08D</td>\n",
       "      <td>core</td>\n",
       "    </tr>\n",
       "  </tbody>\n",
       "</table>\n",
       "</div>"
      ],
      "text/plain": [
       "                            timestamp                name  value  \\\n",
       "0 2023-07-25 17:30:07.524413220+00:00  wxt.wind.direction  145.0   \n",
       "1 2023-07-25 17:30:07.613069254+00:00  wxt.wind.direction  145.0   \n",
       "2 2023-07-25 17:30:07.692242619+00:00  wxt.wind.direction  145.0   \n",
       "3 2023-07-25 17:30:07.770580478+00:00  wxt.wind.direction  145.0   \n",
       "4 2023-07-25 17:30:07.848899200+00:00  wxt.wind.direction  145.0   \n",
       "\n",
       "                    meta.host meta.missing         meta.node  \\\n",
       "0  000048b02d3ae277.ws-nxcore      -9999.9  000048b02d3ae277   \n",
       "1  000048b02d3ae277.ws-nxcore      -9999.9  000048b02d3ae277   \n",
       "2  000048b02d3ae277.ws-nxcore      -9999.9  000048b02d3ae277   \n",
       "3  000048b02d3ae277.ws-nxcore      -9999.9  000048b02d3ae277   \n",
       "4  000048b02d3ae277.ws-nxcore      -9999.9  000048b02d3ae277   \n",
       "\n",
       "                                         meta.plugin     meta.sensor  \\\n",
       "0  registry.sagecontinuum.org/jrobrien/waggle-wxt...  vaisala-wxt536   \n",
       "1  registry.sagecontinuum.org/jrobrien/waggle-wxt...  vaisala-wxt536   \n",
       "2  registry.sagecontinuum.org/jrobrien/waggle-wxt...  vaisala-wxt536   \n",
       "3  registry.sagecontinuum.org/jrobrien/waggle-wxt...  vaisala-wxt536   \n",
       "4  registry.sagecontinuum.org/jrobrien/waggle-wxt...  vaisala-wxt536   \n",
       "\n",
       "       meta.task meta.units meta.vsn meta.zone  \n",
       "0  waggle-wxt536    degrees     W08D      core  \n",
       "1  waggle-wxt536    degrees     W08D      core  \n",
       "2  waggle-wxt536    degrees     W08D      core  \n",
       "3  waggle-wxt536    degrees     W08D      core  \n",
       "4  waggle-wxt536    degrees     W08D      core  "
      ]
     },
     "execution_count": 8,
     "metadata": {},
     "output_type": "execute_result"
    }
   ],
   "source": [
    "wxt_df1.head()"
   ]
  },
  {
   "cell_type": "code",
   "execution_count": 12,
   "id": "fcb226eb-a162-43b1-90f5-586f227edd6e",
   "metadata": {
    "tags": []
   },
   "outputs": [],
   "source": [
    "start = \"-3h\"\n",
    "wxt_df2 = sage_data_client.query(\n",
    "    start=start,\n",
    "    filter={\n",
    "        \"node\": \"000048b02d3ae277\",\n",
    "    }\n",
    ")"
   ]
  },
  {
   "cell_type": "code",
   "execution_count": 16,
   "id": "1eab4430-e4c5-4dd2-b4f4-a9f72a14b442",
   "metadata": {
    "tags": []
   },
   "outputs": [
    {
     "data": {
      "text/plain": [
       "{'bme280', 'bme680', nan, 'temp0', 'temp1', 'vaisala-aqt530', 'vaisala-wxt536'}"
      ]
     },
     "execution_count": 16,
     "metadata": {},
     "output_type": "execute_result"
    }
   ],
   "source": [
    "set(wxt_df2['meta.sensor'].values)"
   ]
  },
  {
   "cell_type": "code",
   "execution_count": 19,
   "id": "aeb13921-2930-40ea-a4a6-e5ed70ba590c",
   "metadata": {
    "tags": []
   },
   "outputs": [
    {
     "data": {
      "text/plain": [
       "{'W08D'}"
      ]
     },
     "execution_count": 19,
     "metadata": {},
     "output_type": "execute_result"
    }
   ],
   "source": [
    "set(wxt_df2['meta.vsn'].values)"
   ]
  },
  {
   "cell_type": "code",
   "execution_count": 18,
   "id": "152b3e08-7e28-478d-b59d-8b97a7ffb481",
   "metadata": {
    "tags": []
   },
   "outputs": [
    {
     "data": {
      "text/plain": [
       "Index(['timestamp', 'name', 'value', 'meta.description', 'meta.host',\n",
       "       'meta.missing', 'meta.node', 'meta.plugin', 'meta.sensor', 'meta.task',\n",
       "       'meta.units', 'meta.vsn', 'meta.zone', 'meta.job', 'meta.name',\n",
       "       'meta.type', 'meta.cpu', 'meta.mode', 'meta.device', 'meta.fstype',\n",
       "       'meta.mountpoint', 'meta.chip', 'meta.server', 'meta.severity',\n",
       "       'meta.filename', 'meta.loop_num', 'meta.position'],\n",
       "      dtype='object')"
      ]
     },
     "execution_count": 18,
     "metadata": {},
     "output_type": "execute_result"
    }
   ],
   "source": [
    "wxt_df2.columns"
   ]
  },
  {
   "cell_type": "code",
   "execution_count": 22,
   "id": "1489c2d2-6fb0-48a4-a5fc-8416caf638e7",
   "metadata": {
    "tags": []
   },
   "outputs": [],
   "source": [
    "wtx_df3 = sage_data_client.query(\n",
    "        start=start,\n",
    "        filter={\n",
    "            \"name\":\"*\",\n",
    "            \"vsn\":\"W08D\"\n",
    "        }\n",
    ")"
   ]
  },
  {
   "cell_type": "code",
   "execution_count": 25,
   "id": "8580d40b-0822-4019-a33d-a263373f65dd",
   "metadata": {
    "tags": []
   },
   "outputs": [
    {
     "data": {
      "text/plain": [
       "{'aqt.env.humidity',\n",
       " 'aqt.env.pressure',\n",
       " 'aqt.env.temp',\n",
       " 'aqt.gas.co',\n",
       " 'aqt.gas.no',\n",
       " 'aqt.gas.no2',\n",
       " 'aqt.gas.ozone',\n",
       " 'aqt.house.datetime',\n",
       " 'aqt.house.uptime',\n",
       " 'aqt.particle.pm1',\n",
       " 'aqt.particle.pm10',\n",
       " 'aqt.particle.pm2.5',\n",
       " 'capture.duration.sec',\n",
       " 'env.detection.avian.progne_subis',\n",
       " 'env.detection.avian.turnix_sylvaticus',\n",
       " 'env.detection.avian.tympanuchus_cupido',\n",
       " 'env.pressure',\n",
       " 'env.raingauge.event_acc',\n",
       " 'env.raingauge.rint',\n",
       " 'env.raingauge.total_acc',\n",
       " 'env.relative_humidity',\n",
       " 'env.temperature',\n",
       " 'iio.in_humidityrelative_input',\n",
       " 'iio.in_pressure_input',\n",
       " 'iio.in_resistance_input',\n",
       " 'iio.in_temp_input',\n",
       " 'loop.num',\n",
       " 'mobotix.move.status',\n",
       " 'plugin.duration.inference',\n",
       " 'plugin.duration.input',\n",
       " 'plugin.duration.loadmodel',\n",
       " 'scan.duration.sec',\n",
       " 'sys.boot_time',\n",
       " 'sys.cooling',\n",
       " 'sys.cooling_max',\n",
       " 'sys.cpu_seconds',\n",
       " 'sys.freq.ape',\n",
       " 'sys.freq.cpu',\n",
       " 'sys.freq.cpu_max',\n",
       " 'sys.freq.cpu_min',\n",
       " 'sys.freq.cpu_perc',\n",
       " 'sys.freq.emc',\n",
       " 'sys.freq.emc_max',\n",
       " 'sys.freq.emc_min',\n",
       " 'sys.freq.emc_perc',\n",
       " 'sys.freq.gpu',\n",
       " 'sys.freq.gpu_max',\n",
       " 'sys.freq.gpu_min',\n",
       " 'sys.freq.gpu_perc',\n",
       " 'sys.fs.avail',\n",
       " 'sys.fs.size',\n",
       " 'sys.gps.alt',\n",
       " 'sys.gps.epv',\n",
       " 'sys.gps.epx',\n",
       " 'sys.gps.epy',\n",
       " 'sys.gps.lat',\n",
       " 'sys.gps.lon',\n",
       " 'sys.gps.mode',\n",
       " 'sys.gps.satellites',\n",
       " 'sys.hwmon',\n",
       " 'sys.load1',\n",
       " 'sys.load15',\n",
       " 'sys.load5',\n",
       " 'sys.mem.active',\n",
       " 'sys.mem.active.anon',\n",
       " 'sys.mem.active.file',\n",
       " 'sys.mem.anon_pages',\n",
       " 'sys.mem.avail',\n",
       " 'sys.mem.bounce',\n",
       " 'sys.mem.buffers',\n",
       " 'sys.mem.cached',\n",
       " 'sys.mem.cma_free',\n",
       " 'sys.mem.cma_total',\n",
       " 'sys.mem.commit_limit',\n",
       " 'sys.mem.committed_as',\n",
       " 'sys.mem.dirty',\n",
       " 'sys.mem.free',\n",
       " 'sys.mem.inactive',\n",
       " 'sys.mem.inactive.anon',\n",
       " 'sys.mem.inactive.file',\n",
       " 'sys.mem.kernel_stack',\n",
       " 'sys.mem.mapped',\n",
       " 'sys.mem.mlocked',\n",
       " 'sys.mem.nfs_unstable',\n",
       " 'sys.mem.page_tables',\n",
       " 'sys.mem.shared',\n",
       " 'sys.mem.slab',\n",
       " 'sys.mem.sreclaimable',\n",
       " 'sys.mem.sunreclaim',\n",
       " 'sys.mem.swap.cached',\n",
       " 'sys.mem.swap.free',\n",
       " 'sys.mem.swap.total',\n",
       " 'sys.mem.total',\n",
       " 'sys.mem.unevictable',\n",
       " 'sys.mem.vmalloc_chunk',\n",
       " 'sys.mem.vmalloc_total',\n",
       " 'sys.mem.vmalloc_used',\n",
       " 'sys.mem.writeback',\n",
       " 'sys.mem.writebacktmp',\n",
       " 'sys.net.rx_bytes',\n",
       " 'sys.net.rx_packets',\n",
       " 'sys.net.tx_bytes',\n",
       " 'sys.net.tx_packets',\n",
       " 'sys.net.up',\n",
       " 'sys.power',\n",
       " 'sys.rssh_up',\n",
       " 'sys.sanity_status.agent-present',\n",
       " 'sys.sanity_status.agent_conn',\n",
       " 'sys.sanity_status.check_hanwha_camera',\n",
       " 'sys.sanity_status.core_nvme_emmc',\n",
       " 'sys.sanity_status.core_rpi',\n",
       " 'sys.sanity_status.core_sdcard',\n",
       " 'sys.sanity_status.current_media',\n",
       " 'sys.sanity_status.docker_active',\n",
       " 'sys.sanity_status.factory_prov',\n",
       " 'sys.sanity_status.gps',\n",
       " 'sys.sanity_status.internet_conn',\n",
       " 'sys.sanity_status.k3s_active',\n",
       " 'sys.sanity_status.k3s_docker_overlay',\n",
       " 'sys.sanity_status.lan0_status',\n",
       " 'sys.sanity_status.modem0_status',\n",
       " 'sys.sanity_status.network_switch',\n",
       " 'sys.sanity_status.network_watchdog_active',\n",
       " 'sys.sanity_status.node_id_set',\n",
       " 'sys.sanity_status.ntp_dns_resolution',\n",
       " 'sys.sanity_status.nxagent_k3s',\n",
       " 'sys.sanity_status.nxcore_k3s',\n",
       " 'sys.sanity_status.psu_status',\n",
       " 'sys.sanity_status.reverse_ssh_access',\n",
       " 'sys.sanity_status.rpi-present',\n",
       " 'sys.sanity_status.rpi_bme680',\n",
       " 'sys.sanity_status.rpi_conn',\n",
       " 'sys.sanity_status.rpi_k3s',\n",
       " 'sys.sanity_status.rpi_mic',\n",
       " 'sys.sanity_status.rpi_raingauge',\n",
       " 'sys.sanity_status.usb_hub',\n",
       " 'sys.sanity_status.waggle_firewall_active',\n",
       " 'sys.sanity_status.waggle_reverse_tunnel_active',\n",
       " 'sys.sanity_status.wagman_bme280',\n",
       " 'sys.sanity_status.wagman_eeprom',\n",
       " 'sys.sanity_status.wagman_leds',\n",
       " 'sys.sanity_status.wagman_rtc',\n",
       " 'sys.sanity_status.wagman_watchdog_active',\n",
       " 'sys.sanity_status.wan0_status',\n",
       " 'sys.sanity_status.wes_audio_server',\n",
       " 'sys.sanity_status.wes_data_sharing_service',\n",
       " 'sys.sanity_status.wes_device_labeler',\n",
       " 'sys.sanity_status.wes_gps_server',\n",
       " 'sys.sanity_status.wes_metrics_agent',\n",
       " 'sys.sanity_status.wes_node_exporter',\n",
       " 'sys.sanity_status.wes_node_influxdb_loader',\n",
       " 'sys.sanity_status.wes_plugin_scheduler',\n",
       " 'sys.sanity_status.wes_rabbitmq',\n",
       " 'sys.sanity_status.wes_sciencerule_checker',\n",
       " 'sys.sanity_status.wes_scoreboard',\n",
       " 'sys.sanity_status.wes_telegraf_cadvisor',\n",
       " 'sys.sanity_status.wes_upload_agent',\n",
       " 'sys.sanity_status.wifi0_status',\n",
       " 'sys.scheduler.status.goal.received',\n",
       " 'sys.scheduler.status.plugin.complete',\n",
       " 'sys.scheduler.status.plugin.launched',\n",
       " 'sys.scheduler.status.plugin.scheduled',\n",
       " 'sys.thermal',\n",
       " 'sys.time',\n",
       " 'sys.uptime',\n",
       " 'upload',\n",
       " 'wxt.env.humidity',\n",
       " 'wxt.env.pressure',\n",
       " 'wxt.env.temp',\n",
       " 'wxt.heater.temp',\n",
       " 'wxt.heater.volt',\n",
       " 'wxt.rain.accumulation',\n",
       " 'wxt.wind.direction',\n",
       " 'wxt.wind.speed'}"
      ]
     },
     "execution_count": 25,
     "metadata": {},
     "output_type": "execute_result"
    }
   ],
   "source": [
    "set(wtx_df3['name'].values)"
   ]
  },
  {
   "cell_type": "code",
   "execution_count": null,
   "id": "07c69502-d4c6-42a0-943b-58c5ab4ffc64",
   "metadata": {},
   "outputs": [],
   "source": []
  }
 ],
 "metadata": {
  "kernelspec": {
   "display_name": "Python 3 (ipykernel)",
   "language": "python",
   "name": "python3"
  },
  "language_info": {
   "codemirror_mode": {
    "name": "ipython",
    "version": 3
   },
   "file_extension": ".py",
   "mimetype": "text/x-python",
   "name": "python",
   "nbconvert_exporter": "python",
   "pygments_lexer": "ipython3",
   "version": "3.10.10"
  }
 },
 "nbformat": 4,
 "nbformat_minor": 5
}
