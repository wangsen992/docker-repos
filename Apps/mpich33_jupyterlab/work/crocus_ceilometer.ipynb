{
 "cells": [
  {
   "cell_type": "code",
   "execution_count": 11,
   "id": "3a41a037-7c79-4b54-a112-841ce17374ca",
   "metadata": {
    "tags": []
   },
   "outputs": [
    {
     "name": "stdout",
     "output_type": "stream",
     "text": [
      "Collecting act-atmos\n",
      "  Downloading act-atmos-1.5.1.tar.gz (32.4 MB)\n",
      "\u001b[2K     \u001b[90m━━━━━━━━━━━━━━━━━━━━━━━━━━━━━━━━━━━━━━━━\u001b[0m \u001b[32m32.4/32.4 MB\u001b[0m \u001b[31m9.6 MB/s\u001b[0m eta \u001b[36m0:00:00\u001b[0m:00:01\u001b[0m00:01\u001b[0m\n",
      "\u001b[?25h  Installing build dependencies ... \u001b[?25ldone\n",
      "\u001b[?25h  Getting requirements to build wheel ... \u001b[?25ldone\n",
      "\u001b[?25h  Preparing metadata (pyproject.toml) ... \u001b[?25ldone\n",
      "\u001b[?25hRequirement already satisfied: xarray in /app/miniconda3/lib/python3.10/site-packages (from act-atmos) (2022.11.0)\n",
      "Requirement already satisfied: six in /app/miniconda3/lib/python3.10/site-packages (from act-atmos) (1.16.0)\n",
      "Requirement already satisfied: pandas<2.0 in /app/miniconda3/lib/python3.10/site-packages (from act-atmos) (1.5.3)\n",
      "Requirement already satisfied: requests in /app/miniconda3/lib/python3.10/site-packages (from act-atmos) (2.28.1)\n",
      "Collecting metpy\n",
      "  Downloading MetPy-1.5.1-py3-none-any.whl (400 kB)\n",
      "\u001b[2K     \u001b[90m━━━━━━━━━━━━━━━━━━━━━━━━━━━━━━━━━━━━━━━\u001b[0m \u001b[32m400.5/400.5 kB\u001b[0m \u001b[31m9.8 MB/s\u001b[0m eta \u001b[36m0:00:00\u001b[0m00:01\u001b[0m\n",
      "\u001b[?25hCollecting skyfield\n",
      "  Downloading skyfield-1.46-py3-none-any.whl (446 kB)\n",
      "\u001b[2K     \u001b[90m━━━━━━━━━━━━━━━━━━━━━━━━━━━━━━━━━━━━━━\u001b[0m \u001b[32m446.0/446.0 kB\u001b[0m \u001b[31m10.5 MB/s\u001b[0m eta \u001b[36m0:00:00\u001b[0ma \u001b[36m0:00:01\u001b[0m\n",
      "\u001b[?25hRequirement already satisfied: matplotlib in /app/miniconda3/lib/python3.10/site-packages (from act-atmos) (3.7.1)\n",
      "Requirement already satisfied: fsspec in /app/miniconda3/lib/python3.10/site-packages (from act-atmos) (2023.4.0)\n",
      "Collecting lxml\n",
      "  Downloading lxml-4.9.3-cp310-cp310-manylinux_2_28_x86_64.whl (7.9 MB)\n",
      "\u001b[2K     \u001b[90m━━━━━━━━━━━━━━━━━━━━━━━━━━━━━━━━━━━━━━━━\u001b[0m \u001b[32m7.9/7.9 MB\u001b[0m \u001b[31m10.9 MB/s\u001b[0m eta \u001b[36m0:00:00\u001b[0m00:01\u001b[0m00:01\u001b[0m\n",
      "\u001b[?25hRequirement already satisfied: pyproj in /app/miniconda3/lib/python3.10/site-packages (from act-atmos) (3.4.1)\n",
      "Collecting scipy\n",
      "  Downloading scipy-1.11.1-cp310-cp310-manylinux_2_17_x86_64.manylinux2014_x86_64.whl (36.3 MB)\n",
      "\u001b[2K     \u001b[90m━━━━━━━━━━━━━━━━━━━━━━━━━━━━━━━━━━━━━━━━\u001b[0m \u001b[32m36.3/36.3 MB\u001b[0m \u001b[31m9.6 MB/s\u001b[0m eta \u001b[36m0:00:00\u001b[0m:00:01\u001b[0m00:01\u001b[0m\n",
      "\u001b[?25hRequirement already satisfied: numpy in /app/miniconda3/lib/python3.10/site-packages (from act-atmos) (1.25.0)\n",
      "Collecting pint\n",
      "  Downloading Pint-0.22-py3-none-any.whl (294 kB)\n",
      "\u001b[2K     \u001b[90m━━━━━━━━━━━━━━━━━━━━━━━━━━━━━━━━━━━━━━━\u001b[0m \u001b[32m294.0/294.0 kB\u001b[0m \u001b[31m9.8 MB/s\u001b[0m eta \u001b[36m0:00:00\u001b[0m\n",
      "\u001b[?25hRequirement already satisfied: cftime in /app/miniconda3/lib/python3.10/site-packages (from act-atmos) (1.6.2)\n",
      "Requirement already satisfied: distributed in /app/miniconda3/lib/python3.10/site-packages (from act-atmos) (2023.6.0)\n",
      "Collecting lazy-loader\n",
      "  Downloading lazy_loader-0.3-py3-none-any.whl (9.1 kB)\n",
      "Requirement already satisfied: dask in /app/miniconda3/lib/python3.10/site-packages (from act-atmos) (2023.6.0)\n",
      "Requirement already satisfied: netcdf4 in /app/miniconda3/lib/python3.10/site-packages (from act-atmos) (1.6.2)\n",
      "Requirement already satisfied: python-dateutil>=2.8.1 in /app/miniconda3/lib/python3.10/site-packages (from pandas<2.0->act-atmos) (2.8.2)\n",
      "Requirement already satisfied: pytz>=2020.1 in /app/miniconda3/lib/python3.10/site-packages (from pandas<2.0->act-atmos) (2023.3)\n",
      "Requirement already satisfied: importlib-metadata>=4.13.0 in /app/miniconda3/lib/python3.10/site-packages (from dask->act-atmos) (6.7.0)\n",
      "Requirement already satisfied: packaging>=20.0 in /app/miniconda3/lib/python3.10/site-packages (from dask->act-atmos) (23.0)\n",
      "Requirement already satisfied: partd>=1.2.0 in /app/miniconda3/lib/python3.10/site-packages (from dask->act-atmos) (1.2.0)\n",
      "Requirement already satisfied: pyyaml>=5.3.1 in /app/miniconda3/lib/python3.10/site-packages (from dask->act-atmos) (6.0)\n",
      "Requirement already satisfied: cloudpickle>=1.5.0 in /app/miniconda3/lib/python3.10/site-packages (from dask->act-atmos) (2.2.1)\n",
      "Requirement already satisfied: toolz>=0.10.0 in /app/miniconda3/lib/python3.10/site-packages (from dask->act-atmos) (0.12.0)\n",
      "Requirement already satisfied: click>=8.0 in /app/miniconda3/lib/python3.10/site-packages (from dask->act-atmos) (8.0.4)\n",
      "Requirement already satisfied: psutil>=5.7.2 in /app/miniconda3/lib/python3.10/site-packages (from distributed->act-atmos) (5.9.0)\n",
      "Requirement already satisfied: zict>=2.2.0 in /app/miniconda3/lib/python3.10/site-packages (from distributed->act-atmos) (2.2.0)\n",
      "Requirement already satisfied: msgpack>=1.0.0 in /app/miniconda3/lib/python3.10/site-packages (from distributed->act-atmos) (1.0.3)\n",
      "Requirement already satisfied: tornado>=6.0.4 in /app/miniconda3/lib/python3.10/site-packages (from distributed->act-atmos) (6.1)\n",
      "Requirement already satisfied: jinja2>=2.10.3 in /app/miniconda3/lib/python3.10/site-packages (from distributed->act-atmos) (3.1.2)\n",
      "Requirement already satisfied: sortedcontainers>=2.0.5 in /app/miniconda3/lib/python3.10/site-packages (from distributed->act-atmos) (2.4.0)\n",
      "Requirement already satisfied: urllib3>=1.24.3 in /app/miniconda3/lib/python3.10/site-packages (from distributed->act-atmos) (1.26.15)\n",
      "Requirement already satisfied: tblib>=1.6.0 in /app/miniconda3/lib/python3.10/site-packages (from distributed->act-atmos) (1.7.0)\n",
      "Requirement already satisfied: locket>=1.0.0 in /app/miniconda3/lib/python3.10/site-packages (from distributed->act-atmos) (1.0.0)\n",
      "Requirement already satisfied: contourpy>=1.0.1 in /app/miniconda3/lib/python3.10/site-packages (from matplotlib->act-atmos) (1.0.5)\n",
      "Requirement already satisfied: cycler>=0.10 in /app/miniconda3/lib/python3.10/site-packages (from matplotlib->act-atmos) (0.11.0)\n",
      "Requirement already satisfied: pyparsing>=2.3.1 in /app/miniconda3/lib/python3.10/site-packages (from matplotlib->act-atmos) (3.0.9)\n",
      "Requirement already satisfied: fonttools>=4.22.0 in /app/miniconda3/lib/python3.10/site-packages (from matplotlib->act-atmos) (4.25.0)\n",
      "Requirement already satisfied: kiwisolver>=1.0.1 in /app/miniconda3/lib/python3.10/site-packages (from matplotlib->act-atmos) (1.4.4)\n",
      "Requirement already satisfied: pillow>=6.2.0 in /app/miniconda3/lib/python3.10/site-packages (from matplotlib->act-atmos) (9.4.0)\n",
      "Collecting pooch>=1.2.0\n",
      "  Downloading pooch-1.7.0-py3-none-any.whl (60 kB)\n",
      "\u001b[2K     \u001b[90m━━━━━━━━━━━━━━━━━━━━━━━━━━━━━━━━━━━━━━━━\u001b[0m \u001b[32m60.9/60.9 kB\u001b[0m \u001b[31m4.5 MB/s\u001b[0m eta \u001b[36m0:00:00\u001b[0m\n",
      "\u001b[?25hRequirement already satisfied: traitlets>=5.0.5 in /app/miniconda3/lib/python3.10/site-packages (from metpy->act-atmos) (5.9.0)\n",
      "Requirement already satisfied: typing-extensions in /app/miniconda3/lib/python3.10/site-packages (from pint->act-atmos) (4.7.1)\n",
      "Requirement already satisfied: certifi in /app/miniconda3/lib/python3.10/site-packages (from pyproj->act-atmos) (2023.5.7)\n",
      "Requirement already satisfied: charset-normalizer<3,>=2 in /app/miniconda3/lib/python3.10/site-packages (from requests->act-atmos) (2.0.4)\n",
      "Requirement already satisfied: idna<4,>=2.5 in /app/miniconda3/lib/python3.10/site-packages (from requests->act-atmos) (3.4)\n",
      "Collecting jplephem>=2.13\n",
      "  Downloading jplephem-2.18-py3-none-any.whl (46 kB)\n",
      "\u001b[2K     \u001b[90m━━━━━━━━━━━━━━━━━━━━━━━━━━━━━━━━━━━━━━━━\u001b[0m \u001b[32m46.7/46.7 kB\u001b[0m \u001b[31m7.6 MB/s\u001b[0m eta \u001b[36m0:00:00\u001b[0m\n",
      "\u001b[?25hCollecting sgp4>=2.2\n",
      "  Downloading sgp4-2.22-cp310-cp310-manylinux_2_5_x86_64.manylinux1_x86_64.manylinux_2_17_x86_64.manylinux2014_x86_64.whl (232 kB)\n",
      "\u001b[2K     \u001b[90m━━━━━━━━━━━━━━━━━━━━━━━━━━━━━━━━━━━━━━━\u001b[0m \u001b[32m232.1/232.1 kB\u001b[0m \u001b[31m8.9 MB/s\u001b[0m eta \u001b[36m0:00:00\u001b[0m\n",
      "\u001b[?25hRequirement already satisfied: zipp>=0.5 in /app/miniconda3/lib/python3.10/site-packages (from importlib-metadata>=4.13.0->dask->act-atmos) (3.15.0)\n",
      "Requirement already satisfied: MarkupSafe>=2.0 in /app/miniconda3/lib/python3.10/site-packages (from jinja2>=2.10.3->distributed->act-atmos) (2.1.1)\n",
      "Requirement already satisfied: platformdirs>=2.5.0 in /app/miniconda3/lib/python3.10/site-packages (from pooch>=1.2.0->metpy->act-atmos) (3.8.0)\n",
      "Requirement already satisfied: heapdict in /app/miniconda3/lib/python3.10/site-packages (from zict>=2.2.0->distributed->act-atmos) (1.0.1)\n",
      "Building wheels for collected packages: act-atmos\n",
      "  Building wheel for act-atmos (pyproject.toml) ... \u001b[?25ldone\n",
      "\u001b[?25h  Created wheel for act-atmos: filename=act_atmos-1.5.1-py3-none-any.whl size=32669997 sha256=47f9b32942b27d5452cdc47cd85eea2d6f881042beab64ca4e5fc0ae132a67ce\n",
      "  Stored in directory: /home/wangsen992/.cache/pip/wheels/f5/e1/99/fdfe5f6a5bf758d41230384dc357cb0224529ee774ebb8cf4c\n",
      "Successfully built act-atmos\n",
      "Installing collected packages: sgp4, scipy, pint, lxml, lazy-loader, jplephem, skyfield, pooch, metpy, act-atmos\n",
      "Successfully installed act-atmos-1.5.1 jplephem-2.18 lazy-loader-0.3 lxml-4.9.3 metpy-1.5.1 pint-0.22 pooch-1.7.0 scipy-1.11.1 sgp4-2.22 skyfield-1.46\n"
     ]
    }
   ],
   "source": [
    "!pip install act-atmos"
   ]
  },
  {
   "cell_type": "code",
   "execution_count": 1,
   "id": "7a8df2bb-f914-4562-ac58-2cb160dbc0b9",
   "metadata": {
    "tags": []
   },
   "outputs": [],
   "source": [
    "import act\n",
    "import glob\n",
    "import matplotlib.pyplot as plt\n",
    "import matplotlib"
   ]
  },
  {
   "cell_type": "code",
   "execution_count": 2,
   "id": "bb875b97-c7ca-4abd-b65b-bec8c859f661",
   "metadata": {
    "tags": []
   },
   "outputs": [
    {
     "ename": "OSError",
     "evalue": "no files to open",
     "output_type": "error",
     "traceback": [
      "\u001b[0;31m---------------------------------------------------------------------------\u001b[0m",
      "\u001b[0;31mOSError\u001b[0m                                   Traceback (most recent call last)",
      "Cell \u001b[0;32mIn[2], line 3\u001b[0m\n\u001b[1;32m      1\u001b[0m files \u001b[38;5;241m=\u001b[39m glob\u001b[38;5;241m.\u001b[39mglob(\u001b[38;5;124m'\u001b[39m\u001b[38;5;124m../../data/ceilometer/sgp*\u001b[39m\u001b[38;5;124m'\u001b[39m)\n\u001b[0;32m----> 3\u001b[0m ds \u001b[38;5;241m=\u001b[39m \u001b[43mact\u001b[49m\u001b[38;5;241;43m.\u001b[39;49m\u001b[43mio\u001b[49m\u001b[38;5;241;43m.\u001b[39;49m\u001b[43mread_netcdf\u001b[49m\u001b[43m(\u001b[49m\u001b[43mfiles\u001b[49m\u001b[43m)\u001b[49m\n",
      "File \u001b[0;32m/app/miniconda3/lib/python3.10/site-packages/act/io/armfiles.py:145\u001b[0m, in \u001b[0;36mread_netcdf\u001b[0;34m(filenames, concat_dim, return_None, combine, decode_times, use_cftime, use_base_time, combine_attrs, cleanup_qc, keep_variables, **kwargs)\u001b[0m\n\u001b[1;32m    141\u001b[0m     except_tuple \u001b[38;5;241m=\u001b[39m except_tuple \u001b[38;5;241m+\u001b[39m (\u001b[38;5;167;01mFileNotFoundError\u001b[39;00m, \u001b[38;5;167;01mOSError\u001b[39;00m)\n\u001b[1;32m    143\u001b[0m \u001b[38;5;28;01mtry\u001b[39;00m:\n\u001b[1;32m    144\u001b[0m     \u001b[38;5;66;03m# Read data file with Xarray function\u001b[39;00m\n\u001b[0;32m--> 145\u001b[0m     ds \u001b[38;5;241m=\u001b[39m \u001b[43mxr\u001b[49m\u001b[38;5;241;43m.\u001b[39;49m\u001b[43mopen_mfdataset\u001b[49m\u001b[43m(\u001b[49m\u001b[43mfilenames\u001b[49m\u001b[43m,\u001b[49m\u001b[43m \u001b[49m\u001b[38;5;241;43m*\u001b[39;49m\u001b[38;5;241;43m*\u001b[39;49m\u001b[43mkwargs\u001b[49m\u001b[43m)\u001b[49m\n\u001b[1;32m    147\u001b[0m \u001b[38;5;28;01mexcept\u001b[39;00m except_tuple \u001b[38;5;28;01mas\u001b[39;00m exception:\n\u001b[1;32m    148\u001b[0m     \u001b[38;5;66;03m# If requested return None for File not found error\u001b[39;00m\n\u001b[1;32m    149\u001b[0m     \u001b[38;5;28;01mif\u001b[39;00m \u001b[38;5;28mtype\u001b[39m(exception)\u001b[38;5;241m.\u001b[39m\u001b[38;5;18m__name__\u001b[39m \u001b[38;5;241m==\u001b[39m \u001b[38;5;124m'\u001b[39m\u001b[38;5;124mFileNotFoundError\u001b[39m\u001b[38;5;124m'\u001b[39m:\n",
      "File \u001b[0;32m/app/miniconda3/lib/python3.10/site-packages/xarray/backends/api.py:961\u001b[0m, in \u001b[0;36mopen_mfdataset\u001b[0;34m(paths, chunks, concat_dim, compat, preprocess, engine, data_vars, coords, combine, parallel, join, attrs_file, combine_attrs, **kwargs)\u001b[0m\n\u001b[1;32m    958\u001b[0m     paths \u001b[38;5;241m=\u001b[39m [os\u001b[38;5;241m.\u001b[39mfspath(p) \u001b[38;5;28;01mif\u001b[39;00m \u001b[38;5;28misinstance\u001b[39m(p, os\u001b[38;5;241m.\u001b[39mPathLike) \u001b[38;5;28;01melse\u001b[39;00m p \u001b[38;5;28;01mfor\u001b[39;00m p \u001b[38;5;129;01min\u001b[39;00m paths]\n\u001b[1;32m    960\u001b[0m \u001b[38;5;28;01mif\u001b[39;00m \u001b[38;5;129;01mnot\u001b[39;00m paths:\n\u001b[0;32m--> 961\u001b[0m     \u001b[38;5;28;01mraise\u001b[39;00m \u001b[38;5;167;01mOSError\u001b[39;00m(\u001b[38;5;124m\"\u001b[39m\u001b[38;5;124mno files to open\u001b[39m\u001b[38;5;124m\"\u001b[39m)\n\u001b[1;32m    963\u001b[0m \u001b[38;5;28;01mif\u001b[39;00m combine \u001b[38;5;241m==\u001b[39m \u001b[38;5;124m\"\u001b[39m\u001b[38;5;124mnested\u001b[39m\u001b[38;5;124m\"\u001b[39m:\n\u001b[1;32m    964\u001b[0m     \u001b[38;5;28;01mif\u001b[39;00m \u001b[38;5;28misinstance\u001b[39m(concat_dim, (\u001b[38;5;28mstr\u001b[39m, DataArray)) \u001b[38;5;129;01mor\u001b[39;00m concat_dim \u001b[38;5;129;01mis\u001b[39;00m \u001b[38;5;28;01mNone\u001b[39;00m:\n",
      "\u001b[0;31mOSError\u001b[0m: no files to open"
     ]
    }
   ],
   "source": [
    "files = glob.glob('../../data/ceilometer/sgp*')\n",
    "\n",
    "ds = act.io.read_netcdf(files)"
   ]
  },
  {
   "cell_type": "code",
   "execution_count": null,
   "id": "5b77e3be-0974-47ac-940d-f9956d4bf0a2",
   "metadata": {},
   "outputs": [],
   "source": []
  }
 ],
 "metadata": {
  "kernelspec": {
   "display_name": "Python 3 (ipykernel)",
   "language": "python",
   "name": "python3"
  },
  "language_info": {
   "codemirror_mode": {
    "name": "ipython",
    "version": 3
   },
   "file_extension": ".py",
   "mimetype": "text/x-python",
   "name": "python",
   "nbconvert_exporter": "python",
   "pygments_lexer": "ipython3",
   "version": "3.10.10"
  }
 },
 "nbformat": 4,
 "nbformat_minor": 5
}
